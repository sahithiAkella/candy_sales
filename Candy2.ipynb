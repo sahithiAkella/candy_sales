{
 "cells": [
  {
   "cell_type": "code",
   "execution_count": 65,
   "metadata": {},
   "outputs": [],
   "source": [
    "import pandas as pd\n",
    "import numpy as np\n",
    "from sklearn.model_selection import train_test_split # Import train_test_split function\n",
    "from sklearn.model_selection import cross_val_score\n",
    "from sklearn.model_selection import GridSearchCV\n",
    "from sklearn.linear_model import LinearRegression\n",
    "from sklearn.metrics import mean_squared_error\n",
    "from sklearn.metrics import r2_score\n",
    "from sklearn.tree import DecisionTreeRegressor\n",
    "from sklearn.ensemble import RandomForestRegressor\n",
    "\n",
    "\n",
    "#Load the data\n",
    "df = pd.read_csv(r\"C:\\Users\\SAkela\\lidl\\candy-data.txt\");\n",
    "\n",
    "X = df.drop([\"winpercent\",\"competitorname\", \"sugarpercent\", \"pricepercent\"],1)   #Feature Matrix\n",
    "y = df[\"winpercent\"]          #Target Variable\n",
    "#print(df.head())\n",
    "\n",
    "# Split dataset into training set and test set\n",
    "X_train, X_test, y_train, y_test = train_test_split(X, y, test_size=0.3, random_state=1) # 70% training and 30% test\n",
    "#print(len(X_train),len(y_train),len(X_test),len(y_test))"
   ]
  },
  {
   "cell_type": "code",
   "execution_count": 67,
   "metadata": {},
   "outputs": [
    {
     "name": "stdout",
     "output_type": "stream",
     "text": [
      "lin_rmse: 9.870064561805632\n",
      "lin_rmse_scores: [15.0913503  14.0213426  11.42087153 10.86363055 12.14593423 14.53328966\n",
      "  7.89933016 10.57402387  9.77534174 17.36189403]\n",
      "mean: 12.368700867609387\n",
      "std: 2.699932608965717\n",
      "lin_r2sq: 0.5346699471984231\n"
     ]
    }
   ],
   "source": [
    "#Linear Regression\n",
    "lin_reg = LinearRegression()\n",
    "lin_reg.fit(X_train,y_train)\n",
    "y_predictions = lin_reg.predict(X_train)\n",
    "lin_mse = mean_squared_error(y_train,y_predictions)\n",
    "lin_rmse = np.sqrt(lin_mse)\n",
    "print(\"lin_rmse:\", lin_rmse)\n",
    "lin_scores = cross_val_score(lin_reg, X_train, y_train, scoring=\"neg_mean_squared_error\", cv=10)\n",
    "lin_rmse_scores = np.sqrt(-lin_scores)\n",
    "print(\"lin_rmse_scores:\", lin_rmse_scores)\n",
    "print(\"mean:\", lin_rmse_scores.mean())\n",
    "print(\"std:\", lin_rmse_scores.std())\n",
    "lin_r2sq = r2_score(y_train, y_predictions)\n",
    "print(\"lin_r2sq:\", lin_r2sq)"
   ]
  },
  {
   "cell_type": "code",
   "execution_count": 71,
   "metadata": {},
   "outputs": [
    {
     "name": "stdout",
     "output_type": "stream",
     "text": [
      "7.537707820926796\n",
      "[12.60418858 10.02473645 15.86163639  7.58947722 12.74342193  8.83862852\n",
      "  7.1374176  10.01178642 13.16681317 15.16391935]\n",
      "11.31420256356239\n",
      "2.8886841407551516\n",
      "tree_r2sq: 0.728606330429213\n"
     ]
    }
   ],
   "source": [
    "#Decision Tree\n",
    "tree_reg = DecisionTreeRegressor()\n",
    "tree_reg.fit(X_train,y_train)\n",
    "y_prediction = tree_reg.predict(X_train)\n",
    "tree_mse = mean_squared_error(y_train,y_prediction)\n",
    "tree_rmse = np.sqrt(tree_mse)\n",
    "print(tree_rmse)\n",
    "tree_scores = cross_val_score(tree_reg, X_train, y_train, scoring=\"neg_mean_squared_error\", cv=10)\n",
    "tree_rmsescores = np.sqrt(-tree_scores)\n",
    "print(tree_rmsescores)\n",
    "print(tree_rmsescores.mean())\n",
    "print(tree_rmsescores.std())\n",
    "tree_r2sq = r2_score(y_train, y_prediction)\n",
    "print(\"tree_r2sq:\", tree_r2sq)"
   ]
  },
  {
   "cell_type": "code",
   "execution_count": 70,
   "metadata": {},
   "outputs": [
    {
     "name": "stdout",
     "output_type": "stream",
     "text": [
      "7.83748114352828\n",
      "[13.10106362  8.35267444 12.03611663  5.84164919  5.69873592 11.70394378\n",
      "  7.2346102  11.10555383 11.92545166 15.56555405]\n",
      "10.25653533026402\n",
      "3.1315572623656136\n",
      "forest_r2sq: 0.7065905260080279\n"
     ]
    },
    {
     "name": "stderr",
     "output_type": "stream",
     "text": [
      "c:\\users\\sakela\\appdata\\local\\continuum\\anaconda3\\envs\\pvnd_ml\\lib\\site-packages\\sklearn\\ensemble\\forest.py:246: FutureWarning: The default value of n_estimators will change from 10 in version 0.20 to 100 in 0.22.\n",
      "  \"10 in version 0.20 to 100 in 0.22.\", FutureWarning)\n"
     ]
    }
   ],
   "source": [
    "#Random Forest\n",
    "forest_reg = RandomForestRegressor()\n",
    "forest_reg.fit(X_train, y_train)\n",
    "y_predict = forest_reg.predict(X_train)\n",
    "forest_mse = mean_squared_error(y_train,y_predict)\n",
    "forest_rmse = np.sqrt(forest_mse)\n",
    "print(forest_rmse)\n",
    "forest_scores = cross_val_score(forest_reg, X_train, y_train, scoring=\"neg_mean_squared_error\", cv=10)\n",
    "forest_rmsescores = np.sqrt(-forest_scores)\n",
    "print(forest_rmsescores)\n",
    "print(forest_rmsescores.mean())\n",
    "print(forest_rmsescores.std())\n",
    "forest_r2sq = r2_score(y_train, y_predict)\n",
    "print(\"forest_r2sq:\", forest_r2sq)"
   ]
  },
  {
   "cell_type": "code",
   "execution_count": 62,
   "metadata": {},
   "outputs": [
    {
     "name": "stdout",
     "output_type": "stream",
     "text": [
      "{'max_features': 9, 'n_estimators': 10}\n",
      "[0.54806045 0.03384448 0.03485151 0.13992123 0.03390382 0.0479917\n",
      " 0.01952354 0.06135801 0.08054526]\n"
     ]
    },
    {
     "name": "stderr",
     "output_type": "stream",
     "text": [
      "c:\\users\\sakela\\appdata\\local\\continuum\\anaconda3\\envs\\pvnd_ml\\lib\\site-packages\\sklearn\\model_selection\\_search.py:841: DeprecationWarning: The default of the `iid` parameter will change from True to False in version 0.22 and will be removed in 0.24. This will change numeric results when test-set sizes are unequal.\n",
      "  DeprecationWarning)\n"
     ]
    }
   ],
   "source": [
    "#using GridSearch\n",
    "param_grid = [\n",
    "    {'n_estimators' : [3, 10, 20], 'max_features': [3, 6, 9]},\n",
    "    {'bootstrap' : [False], 'n_estimators' : [3, 10], 'max_features' : [3, 4, 5]},\n",
    "]\n",
    "grid_search = GridSearchCV(forest_reg, param_grid, cv=5, scoring=\"neg_mean_squared_error\")\n",
    "grid_search.fit(X_train,y_train)\n",
    "print(grid_search.best_params_)\n",
    "\n",
    "\n",
    "feature_importances = grid_search.best_estimator_.feature_importances_\n",
    "print(feature_importances)"
   ]
  },
  {
   "cell_type": "code",
   "execution_count": 73,
   "metadata": {},
   "outputs": [
    {
     "name": "stdout",
     "output_type": "stream",
     "text": [
      "11.773957913401292\n"
     ]
    }
   ],
   "source": [
    "#Test data\n",
    "final_model = grid_search.best_estimator_\n",
    "y_test_predict = final_model.predict(X_test)\n",
    "final_mse = mean_squared_error(y_test, y_test_predict)\n",
    "final_rmse = np.sqrt(final_mse)\n",
    "print(final_rmse)"
   ]
  },
  {
   "cell_type": "code",
   "execution_count": null,
   "metadata": {},
   "outputs": [],
   "source": []
  }
 ],
 "metadata": {
  "kernelspec": {
   "display_name": "Python 3",
   "language": "python",
   "name": "python3"
  },
  "language_info": {
   "codemirror_mode": {
    "name": "ipython",
    "version": 3
   },
   "file_extension": ".py",
   "mimetype": "text/x-python",
   "name": "python",
   "nbconvert_exporter": "python",
   "pygments_lexer": "ipython3",
   "version": "3.7.3"
  }
 },
 "nbformat": 4,
 "nbformat_minor": 2
}
