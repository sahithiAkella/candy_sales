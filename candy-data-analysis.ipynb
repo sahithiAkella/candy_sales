{
 "cells": [
  {
   "cell_type": "markdown",
   "metadata": {},
   "source": [
    "# Analyse the candy-data to make a recommendation for the next product."
   ]
  },
  {
   "cell_type": "code",
   "execution_count": 327,
   "metadata": {},
   "outputs": [],
   "source": [
    "#Import required libraries\n",
    "import pandas as pd\n",
    "import numpy as np\n",
    "import seaborn as sns\n",
    "import matplotlib.pyplot as plt\n",
    "from sklearn.model_selection import GridSearchCV\n",
    "from sklearn.ensemble import RandomForestRegressor"
   ]
  },
  {
   "cell_type": "code",
   "execution_count": 329,
   "metadata": {},
   "outputs": [],
   "source": [
    "#Load the data\n",
    "df = pd.read_csv(r\"C:\\Users\\SAkela\\lidl\\candy-data.txt\");\n",
    "X = df.drop([\"winpercent\",\"competitorname\"], 1)  #Feature Matrix\n",
    "y = df[\"winpercent\"]          #Target Variable"
   ]
  },
  {
   "cell_type": "code",
   "execution_count": 333,
   "metadata": {
    "scrolled": true
   },
   "outputs": [
    {
     "name": "stderr",
     "output_type": "stream",
     "text": [
      "c:\\users\\sakela\\appdata\\local\\continuum\\anaconda3\\envs\\pvnd_ml\\lib\\site-packages\\sklearn\\ensemble\\forest.py:246: FutureWarning: The default value of n_estimators will change from 10 in version 0.20 to 100 in 0.22.\n",
      "  \"10 in version 0.20 to 100 in 0.22.\", FutureWarning)\n"
     ]
    },
    {
     "data": {
      "text/plain": [
       "RandomForestRegressor(bootstrap=True, criterion='mse', max_depth=None,\n",
       "           max_features='auto', max_leaf_nodes=None,\n",
       "           min_impurity_decrease=0.0, min_impurity_split=None,\n",
       "           min_samples_leaf=1, min_samples_split=2,\n",
       "           min_weight_fraction_leaf=0.0, n_estimators=10, n_jobs=None,\n",
       "           oob_score=False, random_state=None, verbose=0, warm_start=False)"
      ]
     },
     "execution_count": 333,
     "metadata": {},
     "output_type": "execute_result"
    }
   ],
   "source": [
    "#Use the Random Forest Regressor\n",
    "forest_reg = RandomForestRegressor()\n",
    "forest_reg.fit(X, y)"
   ]
  },
  {
   "cell_type": "code",
   "execution_count": 334,
   "metadata": {},
   "outputs": [
    {
     "data": {
      "text/plain": [
       "GridSearchCV(cv=5, error_score='raise-deprecating',\n",
       "       estimator=RandomForestRegressor(bootstrap=True, criterion='mse', max_depth=None,\n",
       "           max_features='auto', max_leaf_nodes=None,\n",
       "           min_impurity_decrease=0.0, min_impurity_split=None,\n",
       "           min_samples_leaf=1, min_samples_split=2,\n",
       "           min_weight_fraction_leaf=0.0, n_estimators=10, n_jobs=None,\n",
       "           oob_score=False, random_state=None, verbose=0, warm_start=False),\n",
       "       fit_params=None, iid='warn', n_jobs=None,\n",
       "       param_grid=[{'n_estimators': [3, 10, 20], 'max_features': [2, 4, 6, 8, 10]}, {'bootstrap': [False], 'n_estimators': [3, 10], 'max_features': [3, 4, 5]}],\n",
       "       pre_dispatch='2*n_jobs', refit=True, return_train_score='warn',\n",
       "       scoring='neg_mean_squared_error', verbose=0)"
      ]
     },
     "execution_count": 334,
     "metadata": {},
     "output_type": "execute_result"
    }
   ],
   "source": [
    "#Using GridSearch to find the best parameters\n",
    "param_grid = [\n",
    "    {'n_estimators' : [3, 10, 20], 'max_features': [2,4,6,8,10]},\n",
    "    {'bootstrap' : [False], 'n_estimators' : [3, 10], 'max_features' : [3, 4, 5]},\n",
    "]\n",
    "grid_search = GridSearchCV(forest_reg, param_grid, cv=5, scoring=\"neg_mean_squared_error\")\n",
    "grid_search.fit(X,y)"
   ]
  },
  {
   "cell_type": "markdown",
   "metadata": {},
   "source": [
    " - Using the *RandomForestRegressor* we can indicate the relative importance for each attribute"
   ]
  },
  {
   "cell_type": "code",
   "execution_count": 335,
   "metadata": {},
   "outputs": [
    {
     "data": {
      "image/png": "[encoded data removed]",
      "text/plain": [
       "<Figure size 432x288 with 1 Axes>"
      ]
     },
     "metadata": {
      "needs_background": "light"
     },
     "output_type": "display_data"
    }
   ],
   "source": [
    "#Feature importances\n",
    "feature_importances = grid_search.best_estimator_.feature_importances_\n",
    "indices = np.argsort(feature_importances)\n",
    "\n",
    "#Plotting the feature importances\n",
    "plt.title(\"Feature Importances\")\n",
    "plt.barh(range(len(indices)), feature_importances[indices], color='r', align='center')\n",
    "plt.yticks(range(len(indices)), [X.columns[i] for i in indices])\n",
    "plt.xlabel(\"Relative importance\")\n",
    "plt.show()"
   ]
  },
  {
   "cell_type": "markdown",
   "metadata": {},
   "source": [
    " - From the above plot, we can see that chocolate, sugarpercent and pricepercent are the most important features. \n",
    " - We also use peanutyalmondy, fruity and crispedricwafer to see which combination with chocolate would yield to best results"
   ]
  },
  {
   "cell_type": "code",
   "execution_count": 336,
   "metadata": {},
   "outputs": [
    {
     "name": "stdout",
     "output_type": "stream",
     "text": [
      "Sugar percent mean: 0.4786470514588235\n",
      "Price percent mean: 0.46888235249411764\n"
     ]
    }
   ],
   "source": [
    "#Calculating the mean of sugarpercent and pricepercent\n",
    "print(\"Sugar percent mean:\", df[\"sugarpercent\"].mean())\n",
    "print(\"Price percent mean:\", df[\"pricepercent\"].mean())"
   ]
  },
  {
   "cell_type": "markdown",
   "metadata": {},
   "source": [
    "### Making a test dataset\n",
    "I made a test dataset to predict the *winpercent* for different combinations.\n",
    "I used sugar and price percent above and below their mean value for various combinations of \n",
    " - chocolate with peanutyalmondy\n",
    " - chocolate with crispedricewafer\n",
    " - chocolate with crispedricewafer and peanutyalomondy\n",
    " - fruity"
   ]
  },
  {
   "cell_type": "code",
   "execution_count": 337,
   "metadata": {},
   "outputs": [],
   "source": [
    "\n",
    "X_test = [ [1, 0, 0, 0, 0, 1, 0, 0, 0, 0.75, 0.88], #chocolate, crispedricewafer, high sugar and high price\n",
    "           [1, 0, 0, 0, 0, 1, 0, 0, 0, 0.22, 0.33], #chocolate, crispedricewafer, low sugar and low price\n",
    "           [1, 0, 0, 0, 0, 1, 0, 0, 0, 0.22, 0.85], #chocolate, crispedricewafer, low sugar and high price\n",
    "           [1, 0, 0, 0, 0, 1, 0, 0, 0, 0.95, 0.19], #chocolate, crispedricewafer, high sugar and low price\n",
    "           [1, 0, 0, 1, 0, 1, 0, 0, 0, 0.62, 0.66], #chocolate, peanutyalmondy, crispedricewafer, high sugar and high price\n",
    "           [1, 0, 0, 1, 0, 1, 0, 0, 0, 0.22, 0.26], #chocolate, peanutyalmondy, crispedricewafer, low sugar and low price\n",
    "           [1, 0, 0, 1, 0, 1, 0, 0, 0, 0.72, 0.40], #chocolate, peanutyalmondy, crispedricewafer, high sugar and low price\n",
    "           [1, 0, 0, 1, 0, 1, 0, 0, 0, 0.29, 0.80], #chocolate, peanutyalmondy, crispedricewafer, low sugar and high price\n",
    "           [1, 0, 0, 1, 0, 0, 0, 0, 0, 0.79, 0.22], #chocolate, peanutyalmondy, high sugar and low price\n",
    "           [1, 0, 0, 1, 0, 0, 0, 0, 0, 0.80, 0.92], #chocolate, peanutyalmondy, high sugar and high price\n",
    "           [1, 0, 0, 1, 0, 0, 0, 0, 0, 0.32, 0.22], #chocolate, peanutyalmondy, low sugar and low price\n",
    "           [1, 0, 0, 1, 0, 0, 0, 0, 0, 0.29, 0.92], #chocolate, peanutyalmondy, low sugar and high price\n",
    "           [0, 1, 0, 0, 0, 0, 0, 0, 0, 0.35, 0.78], #fruity, low sugar and high price\n",
    "           [0, 1, 0, 0, 0, 0, 0, 0, 0, 0.96, 0.84], #fruity, high sugar and high price\n",
    "           [0, 1, 0, 0, 0, 0, 0, 0, 0, 0.22, 0.25], #fruity, low sugar and low price\n",
    "           [0, 1, 0, 0, 0, 0, 0, 0, 0, 0.94, 0.32], #fruity, high sugar and low price\n",
    "          ] \n"
   ]
  },
  {
   "cell_type": "code",
   "execution_count": 338,
   "metadata": {},
   "outputs": [
    {
     "data": {
      "text/plain": [
       "array([55.3725293 , 49.1744422 , 51.1748882 , 54.0604225 , 68.5001705 ,\n",
       "       57.5696002 , 66.2800857 , 64.4455051 , 63.8084823 , 63.330897  ,\n",
       "       59.7238773 , 61.2660136 , 40.4393327 , 47.5600986 , 43.91079735,\n",
       "       51.92330563])"
      ]
     },
     "execution_count": 338,
     "metadata": {},
     "output_type": "execute_result"
    }
   ],
   "source": [
    "y_predict = forest_reg.predict(X_test)\n",
    "np.array(y_predict)"
   ]
  },
  {
   "cell_type": "code",
   "execution_count": 339,
   "metadata": {},
   "outputs": [],
   "source": [
    "for i in range(16):\n",
    "    X_test[i].append(y_predict[i])"
   ]
  },
  {
   "cell_type": "markdown",
   "metadata": {},
   "source": [
    "**From the results below, we can see that the maximum *winpercent* is for the combination of chocolate with peanutyalmody and crispedricewafer with a moderately high amount of sugar and price percent**\n",
    "\n",
    "The results can be biased, as the dataset is pretty small and we can't have concrete results using such a dataset."
   ]
  },
  {
   "cell_type": "code",
   "execution_count": 340,
   "metadata": {
    "scrolled": true
   },
   "outputs": [
    {
     "data": {
      "text/html": [
       "<div>\n",
       "<style scoped>\n",
       "    .dataframe tbody tr th:only-of-type {\n",
       "        vertical-align: middle;\n",
       "    }\n",
       "\n",
       "    .dataframe tbody tr th {\n",
       "        vertical-align: top;\n",
       "    }\n",
       "\n",
       "    .dataframe thead th {\n",
       "        text-align: right;\n",
       "    }\n",
       "</style>\n",
       "<table border=\"1\" class=\"dataframe\">\n",
       "  <thead>\n",
       "    <tr style=\"text-align: right;\">\n",
       "      <th></th>\n",
       "      <th>chocolate</th>\n",
       "      <th>fruity</th>\n",
       "      <th>caramel</th>\n",
       "      <th>peanutyalmondy</th>\n",
       "      <th>nougat</th>\n",
       "      <th>crispedricewafer</th>\n",
       "      <th>hard</th>\n",
       "      <th>bar</th>\n",
       "      <th>pluribus</th>\n",
       "      <th>sugarpercent</th>\n",
       "      <th>pricepercent</th>\n",
       "      <th>winpercent</th>\n",
       "    </tr>\n",
       "  </thead>\n",
       "  <tbody>\n",
       "    <tr>\n",
       "      <th>4</th>\n",
       "      <td>1</td>\n",
       "      <td>0</td>\n",
       "      <td>0</td>\n",
       "      <td>1</td>\n",
       "      <td>0</td>\n",
       "      <td>1</td>\n",
       "      <td>0</td>\n",
       "      <td>0</td>\n",
       "      <td>0</td>\n",
       "      <td>0.62</td>\n",
       "      <td>0.66</td>\n",
       "      <td>68.500170</td>\n",
       "    </tr>\n",
       "    <tr>\n",
       "      <th>6</th>\n",
       "      <td>1</td>\n",
       "      <td>0</td>\n",
       "      <td>0</td>\n",
       "      <td>1</td>\n",
       "      <td>0</td>\n",
       "      <td>1</td>\n",
       "      <td>0</td>\n",
       "      <td>0</td>\n",
       "      <td>0</td>\n",
       "      <td>0.72</td>\n",
       "      <td>0.40</td>\n",
       "      <td>66.280086</td>\n",
       "    </tr>\n",
       "    <tr>\n",
       "      <th>7</th>\n",
       "      <td>1</td>\n",
       "      <td>0</td>\n",
       "      <td>0</td>\n",
       "      <td>1</td>\n",
       "      <td>0</td>\n",
       "      <td>1</td>\n",
       "      <td>0</td>\n",
       "      <td>0</td>\n",
       "      <td>0</td>\n",
       "      <td>0.29</td>\n",
       "      <td>0.80</td>\n",
       "      <td>64.445505</td>\n",
       "    </tr>\n",
       "    <tr>\n",
       "      <th>8</th>\n",
       "      <td>1</td>\n",
       "      <td>0</td>\n",
       "      <td>0</td>\n",
       "      <td>1</td>\n",
       "      <td>0</td>\n",
       "      <td>0</td>\n",
       "      <td>0</td>\n",
       "      <td>0</td>\n",
       "      <td>0</td>\n",
       "      <td>0.79</td>\n",
       "      <td>0.22</td>\n",
       "      <td>63.808482</td>\n",
       "    </tr>\n",
       "    <tr>\n",
       "      <th>9</th>\n",
       "      <td>1</td>\n",
       "      <td>0</td>\n",
       "      <td>0</td>\n",
       "      <td>1</td>\n",
       "      <td>0</td>\n",
       "      <td>0</td>\n",
       "      <td>0</td>\n",
       "      <td>0</td>\n",
       "      <td>0</td>\n",
       "      <td>0.80</td>\n",
       "      <td>0.92</td>\n",
       "      <td>63.330897</td>\n",
       "    </tr>\n",
       "    <tr>\n",
       "      <th>11</th>\n",
       "      <td>1</td>\n",
       "      <td>0</td>\n",
       "      <td>0</td>\n",
       "      <td>1</td>\n",
       "      <td>0</td>\n",
       "      <td>0</td>\n",
       "      <td>0</td>\n",
       "      <td>0</td>\n",
       "      <td>0</td>\n",
       "      <td>0.29</td>\n",
       "      <td>0.92</td>\n",
       "      <td>61.266014</td>\n",
       "    </tr>\n",
       "    <tr>\n",
       "      <th>10</th>\n",
       "      <td>1</td>\n",
       "      <td>0</td>\n",
       "      <td>0</td>\n",
       "      <td>1</td>\n",
       "      <td>0</td>\n",
       "      <td>0</td>\n",
       "      <td>0</td>\n",
       "      <td>0</td>\n",
       "      <td>0</td>\n",
       "      <td>0.32</td>\n",
       "      <td>0.22</td>\n",
       "      <td>59.723877</td>\n",
       "    </tr>\n",
       "    <tr>\n",
       "      <th>5</th>\n",
       "      <td>1</td>\n",
       "      <td>0</td>\n",
       "      <td>0</td>\n",
       "      <td>1</td>\n",
       "      <td>0</td>\n",
       "      <td>1</td>\n",
       "      <td>0</td>\n",
       "      <td>0</td>\n",
       "      <td>0</td>\n",
       "      <td>0.22</td>\n",
       "      <td>0.26</td>\n",
       "      <td>57.569600</td>\n",
       "    </tr>\n",
       "    <tr>\n",
       "      <th>0</th>\n",
       "      <td>1</td>\n",
       "      <td>0</td>\n",
       "      <td>0</td>\n",
       "      <td>0</td>\n",
       "      <td>0</td>\n",
       "      <td>1</td>\n",
       "      <td>0</td>\n",
       "      <td>0</td>\n",
       "      <td>0</td>\n",
       "      <td>0.75</td>\n",
       "      <td>0.88</td>\n",
       "      <td>55.372529</td>\n",
       "    </tr>\n",
       "    <tr>\n",
       "      <th>3</th>\n",
       "      <td>1</td>\n",
       "      <td>0</td>\n",
       "      <td>0</td>\n",
       "      <td>0</td>\n",
       "      <td>0</td>\n",
       "      <td>1</td>\n",
       "      <td>0</td>\n",
       "      <td>0</td>\n",
       "      <td>0</td>\n",
       "      <td>0.95</td>\n",
       "      <td>0.19</td>\n",
       "      <td>54.060423</td>\n",
       "    </tr>\n",
       "    <tr>\n",
       "      <th>15</th>\n",
       "      <td>0</td>\n",
       "      <td>1</td>\n",
       "      <td>0</td>\n",
       "      <td>0</td>\n",
       "      <td>0</td>\n",
       "      <td>0</td>\n",
       "      <td>0</td>\n",
       "      <td>0</td>\n",
       "      <td>0</td>\n",
       "      <td>0.94</td>\n",
       "      <td>0.32</td>\n",
       "      <td>51.923306</td>\n",
       "    </tr>\n",
       "    <tr>\n",
       "      <th>2</th>\n",
       "      <td>1</td>\n",
       "      <td>0</td>\n",
       "      <td>0</td>\n",
       "      <td>0</td>\n",
       "      <td>0</td>\n",
       "      <td>1</td>\n",
       "      <td>0</td>\n",
       "      <td>0</td>\n",
       "      <td>0</td>\n",
       "      <td>0.22</td>\n",
       "      <td>0.85</td>\n",
       "      <td>51.174888</td>\n",
       "    </tr>\n",
       "    <tr>\n",
       "      <th>1</th>\n",
       "      <td>1</td>\n",
       "      <td>0</td>\n",
       "      <td>0</td>\n",
       "      <td>0</td>\n",
       "      <td>0</td>\n",
       "      <td>1</td>\n",
       "      <td>0</td>\n",
       "      <td>0</td>\n",
       "      <td>0</td>\n",
       "      <td>0.22</td>\n",
       "      <td>0.33</td>\n",
       "      <td>49.174442</td>\n",
       "    </tr>\n",
       "    <tr>\n",
       "      <th>13</th>\n",
       "      <td>0</td>\n",
       "      <td>1</td>\n",
       "      <td>0</td>\n",
       "      <td>0</td>\n",
       "      <td>0</td>\n",
       "      <td>0</td>\n",
       "      <td>0</td>\n",
       "      <td>0</td>\n",
       "      <td>0</td>\n",
       "      <td>0.96</td>\n",
       "      <td>0.84</td>\n",
       "      <td>47.560099</td>\n",
       "    </tr>\n",
       "    <tr>\n",
       "      <th>14</th>\n",
       "      <td>0</td>\n",
       "      <td>1</td>\n",
       "      <td>0</td>\n",
       "      <td>0</td>\n",
       "      <td>0</td>\n",
       "      <td>0</td>\n",
       "      <td>0</td>\n",
       "      <td>0</td>\n",
       "      <td>0</td>\n",
       "      <td>0.22</td>\n",
       "      <td>0.25</td>\n",
       "      <td>43.910797</td>\n",
       "    </tr>\n",
       "    <tr>\n",
       "      <th>12</th>\n",
       "      <td>0</td>\n",
       "      <td>1</td>\n",
       "      <td>0</td>\n",
       "      <td>0</td>\n",
       "      <td>0</td>\n",
       "      <td>0</td>\n",
       "      <td>0</td>\n",
       "      <td>0</td>\n",
       "      <td>0</td>\n",
       "      <td>0.35</td>\n",
       "      <td>0.78</td>\n",
       "      <td>40.439333</td>\n",
       "    </tr>\n",
       "  </tbody>\n",
       "</table>\n",
       "</div>"
      ],
      "text/plain": [
       "    chocolate  fruity  caramel  peanutyalmondy  nougat  crispedricewafer  \\\n",
       "4           1       0        0               1       0                 1   \n",
       "6           1       0        0               1       0                 1   \n",
       "7           1       0        0               1       0                 1   \n",
       "8           1       0        0               1       0                 0   \n",
       "9           1       0        0               1       0                 0   \n",
       "11          1       0        0               1       0                 0   \n",
       "10          1       0        0               1       0                 0   \n",
       "5           1       0        0               1       0                 1   \n",
       "0           1       0        0               0       0                 1   \n",
       "3           1       0        0               0       0                 1   \n",
       "15          0       1        0               0       0                 0   \n",
       "2           1       0        0               0       0                 1   \n",
       "1           1       0        0               0       0                 1   \n",
       "13          0       1        0               0       0                 0   \n",
       "14          0       1        0               0       0                 0   \n",
       "12          0       1        0               0       0                 0   \n",
       "\n",
       "    hard  bar  pluribus  sugarpercent  pricepercent  winpercent  \n",
       "4      0    0         0          0.62          0.66   68.500170  \n",
       "6      0    0         0          0.72          0.40   66.280086  \n",
       "7      0    0         0          0.29          0.80   64.445505  \n",
       "8      0    0         0          0.79          0.22   63.808482  \n",
       "9      0    0         0          0.80          0.92   63.330897  \n",
       "11     0    0         0          0.29          0.92   61.266014  \n",
       "10     0    0         0          0.32          0.22   59.723877  \n",
       "5      0    0         0          0.22          0.26   57.569600  \n",
       "0      0    0         0          0.75          0.88   55.372529  \n",
       "3      0    0         0          0.95          0.19   54.060423  \n",
       "15     0    0         0          0.94          0.32   51.923306  \n",
       "2      0    0         0          0.22          0.85   51.174888  \n",
       "1      0    0         0          0.22          0.33   49.174442  \n",
       "13     0    0         0          0.96          0.84   47.560099  \n",
       "14     0    0         0          0.22          0.25   43.910797  \n",
       "12     0    0         0          0.35          0.78   40.439333  "
      ]
     },
     "execution_count": 340,
     "metadata": {},
     "output_type": "execute_result"
    }
   ],
   "source": [
    "data = pd.DataFrame(X_test, columns = ['chocolate', 'fruity', 'caramel', 'peanutyalmondy',\n",
    "                                        'nougat', 'crispedricewafer', 'hard', 'bar', \n",
    "                                        'pluribus', 'sugarpercent','pricepercent', \n",
    "                                        'winpercent'])\n",
    "data.sort_values(by=['winpercent'], ascending=False)"
   ]
  }
 ],
 "metadata": {
  "kernelspec": {
   "display_name": "Python 3",
   "language": "python",
   "name": "python3"
  },
  "language_info": {
   "codemirror_mode": {
    "name": "ipython",
    "version": 3
   },
   "file_extension": ".py",
   "mimetype": "text/x-python",
   "name": "python",
   "nbconvert_exporter": "python",
   "pygments_lexer": "ipython3",
   "version": "3.7.3"
  }
 },
 "nbformat": 4,
 "nbformat_minor": 2
}
