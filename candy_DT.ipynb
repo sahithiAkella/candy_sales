{
 "cells": [
  {
   "cell_type": "code",
   "execution_count": 99,
   "metadata": {},
   "outputs": [
    {
     "name": "stdout",
     "output_type": "stream",
     "text": [
      "   chocolate  fruity  caramel  peanutyalmondy  nougat  crispedricewafer  hard  \\\n",
      "0          1       0        1               0       0                 1     0   \n",
      "1          1       0        0               0       1                 0     0   \n",
      "2          0       0        0               0       0                 0     0   \n",
      "3          0       0        0               0       0                 0     0   \n",
      "4          0       1        0               0       0                 0     0   \n",
      "\n",
      "   bar  pluribus  sugarpercent  pricepercent  \n",
      "0    1         0         0.732         0.860  \n",
      "1    1         0         0.604         0.511  \n",
      "2    0         0         0.011         0.116  \n",
      "3    0         0         0.011         0.511  \n",
      "4    0         0         0.906         0.511  \n",
      "59 59 26 26\n"
     ]
    }
   ],
   "source": [
    "import pandas as pd\n",
    "from sklearn.tree import DecisionTreeClassifier      # Import Decision Tree Classifier\n",
    "from sklearn.model_selection import train_test_split # Import train_test_split function\n",
    "from sklearn import metrics                          #Import scikit-learn metrics module for accuracy calculation\n",
    "from sklearn import preprocessing\n",
    "import matplotlib.pyplot as plt\n",
    "\n",
    "from sklearn.datasets import make_classification\n",
    "from sklearn.ensemble import ExtraTreesClassifier\n",
    "\n",
    "df = pd.read_csv(r\"C:\\Users\\SAkela\\lidl\\candy-data.txt\");\n",
    "\n",
    "X = df.drop([\"winpercent\",\"competitorname\"],1)   #Feature Matrix\n",
    "y = df[\"winpercent\"]          #Target Variable\n",
    "\n",
    "print(X.head())\n",
    "lab_enc = preprocessing.LabelEncoder()\n",
    "y = lab_enc.fit_transform(y)\n",
    "\n",
    "#checking the correlation matrix\n",
    "corr_matrix = df.corr()\n",
    "a = corr_matrix[\"winpercent\"].sort_values(ascending=False)\n",
    "\n",
    "# Split dataset into training set and test set\n",
    "X_train, X_test, y_train, y_test = train_test_split(X, y, test_size=0.3, random_state=1) # 70% training and 30% test\n",
    "print(len(X_train),len(y_train),len(X_test),len(y_test))\n",
    "\n",
    "\n",
    "y_train = lab_enc.fit_transform(y_train)\n",
    "y_test = lab_enc.fit_transform(y_test)\n"
   ]
  },
  {
   "cell_type": "code",
   "execution_count": 100,
   "metadata": {},
   "outputs": [
    {
     "name": "stdout",
     "output_type": "stream",
     "text": [
      "Feature ranking:\n",
      "11\n",
      "1. feature 9 (0.336533)\n",
      "2. feature 10 (0.298916)\n",
      "3. feature 8 (0.063622)\n",
      "4. feature 3 (0.049071)\n",
      "5. feature 2 (0.048142)\n",
      "6. feature 6 (0.044582)\n",
      "7. feature 0 (0.043344)\n",
      "8. feature 1 (0.041950)\n",
      "9. feature 5 (0.031889)\n",
      "10. feature 7 (0.024613)\n",
      "11. feature 4 (0.017337)\n"
     ]
    },
    {
     "data": {
      "image/png": "[encoded data removed]",
      "text/plain": [
       "<Figure size 432x288 with 1 Axes>"
      ]
     },
     "metadata": {
      "needs_background": "light"
     },
     "output_type": "display_data"
    }
   ],
   "source": [
    "# Build a forest and compute the feature importances\n",
    "forest = ExtraTreesClassifier(n_estimators=85,\n",
    "                              random_state=0)\n",
    "\n",
    "forest.fit(X, y)\n",
    "importances = forest.feature_importances_\n",
    "std = np.std([tree.feature_importances_ for tree in forest.estimators_],\n",
    "             axis=0)\n",
    "indices = np.argsort(importances)[::-1]\n",
    "\n",
    "# Print the feature ranking\n",
    "print(\"Feature ranking:\")\n",
    "print(X.shape[1])\n",
    "for f in range(X.shape[1]):\n",
    "    print(\"%d. feature %d (%f)\" % (f + 1, indices[f], importances[indices[f]]))\n",
    "\n",
    "# Plot the feature importances of the forest\n",
    "plt.figure()\n",
    "plt.title(\"Feature importances\")\n",
    "plt.bar(range(X.shape[1]), importances[indices],\n",
    "       color=\"r\", yerr=std[indices], align=\"center\")\n",
    "plt.xticks(range(X.shape[1]), indices)\n",
    "plt.xlim([-1, X.shape[1]])\n",
    "plt.show()"
   ]
  },
  {
   "cell_type": "code",
   "execution_count": null,
   "metadata": {},
   "outputs": [],
   "source": [
    "\n",
    "\n",
    "# Create Decision Tree classifer object\n",
    "clf = DecisionTreeClassifier()\n",
    "\n",
    "# Train Decision Tree Classifer\n",
    "clf = clf.fit(X_train,y_train)\n",
    "\n",
    "#Predict the response for test dataset\n",
    "y_pred = clf.predict(X_test)\n",
    "\n",
    "# Model Accuracy, how often is the classifier correct?\n",
    "print(\"Accuracy:\",metrics.accuracy_score(y_test, y_pred))"
   ]
  }
 ],
 "metadata": {
  "kernelspec": {
   "display_name": "Python 3",
   "language": "python",
   "name": "python3"
  },
  "language_info": {
   "codemirror_mode": {
    "name": "ipython",
    "version": 3
   },
   "file_extension": ".py",
   "mimetype": "text/x-python",
   "name": "python",
   "nbconvert_exporter": "python",
   "pygments_lexer": "ipython3",
   "version": "3.7.3"
  }
 },
 "nbformat": 4,
 "nbformat_minor": 2
}
